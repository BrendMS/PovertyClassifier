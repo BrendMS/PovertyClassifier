{
 "cells": [
  {
   "cell_type": "markdown",
   "id": "02db0f7c",
   "metadata": {
    "papermill": {
     "duration": 0.024693,
     "end_time": "2021-09-27T17:45:12.202531",
     "exception": false,
     "start_time": "2021-09-27T17:45:12.177838",
     "status": "completed"
    },
    "tags": []
   },
   "source": [
    "# Classificador KNN para a Adult Base"
   ]
  },
  {
   "cell_type": "code",
   "execution_count": 6,
   "id": "f9a78696",
   "metadata": {
    "execution": {
     "iopub.execute_input": "2021-09-27T17:45:12.264712Z",
     "iopub.status.busy": "2021-09-27T17:45:12.263998Z",
     "iopub.status.idle": "2021-09-27T17:45:13.721038Z",
     "shell.execute_reply": "2021-09-27T17:45:13.720268Z",
     "shell.execute_reply.started": "2021-09-27T17:43:03.030141Z"
    },
    "papermill": {
     "duration": 1.494564,
     "end_time": "2021-09-27T17:45:13.721226",
     "exception": false,
     "start_time": "2021-09-27T17:45:12.226662",
     "status": "completed"
    },
    "tags": []
   },
   "outputs": [],
   "source": [
    "import pandas as pd\n",
    "import sklearn \n",
    "import matplotlib.pyplot as plt\n",
    "from sklearn.preprocessing import RobustScaler, OrdinalEncoder, LabelEncoder, StandardScaler\n",
    "from sklearn.neighbors import KNeighborsClassifier\n",
    "from sklearn.model_selection import GridSearchCV, cross_val_score, train_test_split\n",
    "from sklearn.metrics import accuracy_score\n",
    "import numpy as np\n",
    "import seaborn as sns"
   ]
  },
  {
   "cell_type": "code",
   "execution_count": 7,
   "id": "646255df",
   "metadata": {
    "execution": {
     "iopub.execute_input": "2021-09-27T17:45:13.774759Z",
     "iopub.status.busy": "2021-09-27T17:45:13.773846Z",
     "iopub.status.idle": "2021-09-27T17:45:14.707318Z",
     "shell.execute_reply": "2021-09-27T17:45:14.706606Z",
     "shell.execute_reply.started": "2021-09-27T17:43:03.039115Z"
    },
    "papermill": {
     "duration": 0.962863,
     "end_time": "2021-09-27T17:45:14.707481",
     "exception": false,
     "start_time": "2021-09-27T17:45:13.744618",
     "status": "completed"
    },
    "tags": []
   },
   "outputs": [
    {
     "data": {
      "text/html": [
       "<div>\n",
       "<style scoped>\n",
       "    .dataframe tbody tr th:only-of-type {\n",
       "        vertical-align: middle;\n",
       "    }\n",
       "\n",
       "    .dataframe tbody tr th {\n",
       "        vertical-align: top;\n",
       "    }\n",
       "\n",
       "    .dataframe thead th {\n",
       "        text-align: right;\n",
       "    }\n",
       "</style>\n",
       "<table border=\"1\" class=\"dataframe\">\n",
       "  <thead>\n",
       "    <tr style=\"text-align: right;\">\n",
       "      <th></th>\n",
       "      <th>Id</th>\n",
       "      <th>age</th>\n",
       "      <th>workclass</th>\n",
       "      <th>fnlwgt</th>\n",
       "      <th>education</th>\n",
       "      <th>education.num</th>\n",
       "      <th>marital.status</th>\n",
       "      <th>occupation</th>\n",
       "      <th>relationship</th>\n",
       "      <th>race</th>\n",
       "      <th>sex</th>\n",
       "      <th>capital.gain</th>\n",
       "      <th>capital.loss</th>\n",
       "      <th>hours.per.week</th>\n",
       "      <th>native.country</th>\n",
       "      <th>income</th>\n",
       "    </tr>\n",
       "  </thead>\n",
       "  <tbody>\n",
       "    <tr>\n",
       "      <th>0</th>\n",
       "      <td>16280</td>\n",
       "      <td>34</td>\n",
       "      <td>Private</td>\n",
       "      <td>204991</td>\n",
       "      <td>Some-college</td>\n",
       "      <td>10</td>\n",
       "      <td>Divorced</td>\n",
       "      <td>Exec-managerial</td>\n",
       "      <td>Own-child</td>\n",
       "      <td>White</td>\n",
       "      <td>Male</td>\n",
       "      <td>0</td>\n",
       "      <td>0</td>\n",
       "      <td>44</td>\n",
       "      <td>United-States</td>\n",
       "      <td>&lt;=50K</td>\n",
       "    </tr>\n",
       "    <tr>\n",
       "      <th>1</th>\n",
       "      <td>16281</td>\n",
       "      <td>58</td>\n",
       "      <td>Local-gov</td>\n",
       "      <td>310085</td>\n",
       "      <td>10th</td>\n",
       "      <td>6</td>\n",
       "      <td>Married-civ-spouse</td>\n",
       "      <td>Transport-moving</td>\n",
       "      <td>Husband</td>\n",
       "      <td>White</td>\n",
       "      <td>Male</td>\n",
       "      <td>0</td>\n",
       "      <td>0</td>\n",
       "      <td>40</td>\n",
       "      <td>United-States</td>\n",
       "      <td>&lt;=50K</td>\n",
       "    </tr>\n",
       "    <tr>\n",
       "      <th>2</th>\n",
       "      <td>16282</td>\n",
       "      <td>25</td>\n",
       "      <td>Private</td>\n",
       "      <td>146117</td>\n",
       "      <td>Some-college</td>\n",
       "      <td>10</td>\n",
       "      <td>Never-married</td>\n",
       "      <td>Machine-op-inspct</td>\n",
       "      <td>Not-in-family</td>\n",
       "      <td>White</td>\n",
       "      <td>Male</td>\n",
       "      <td>0</td>\n",
       "      <td>0</td>\n",
       "      <td>42</td>\n",
       "      <td>United-States</td>\n",
       "      <td>&lt;=50K</td>\n",
       "    </tr>\n",
       "    <tr>\n",
       "      <th>3</th>\n",
       "      <td>16283</td>\n",
       "      <td>24</td>\n",
       "      <td>Private</td>\n",
       "      <td>138938</td>\n",
       "      <td>Some-college</td>\n",
       "      <td>10</td>\n",
       "      <td>Divorced</td>\n",
       "      <td>Adm-clerical</td>\n",
       "      <td>Not-in-family</td>\n",
       "      <td>White</td>\n",
       "      <td>Female</td>\n",
       "      <td>0</td>\n",
       "      <td>0</td>\n",
       "      <td>40</td>\n",
       "      <td>United-States</td>\n",
       "      <td>&lt;=50K</td>\n",
       "    </tr>\n",
       "    <tr>\n",
       "      <th>4</th>\n",
       "      <td>16284</td>\n",
       "      <td>57</td>\n",
       "      <td>Self-emp-inc</td>\n",
       "      <td>258883</td>\n",
       "      <td>HS-grad</td>\n",
       "      <td>9</td>\n",
       "      <td>Married-civ-spouse</td>\n",
       "      <td>Transport-moving</td>\n",
       "      <td>Husband</td>\n",
       "      <td>White</td>\n",
       "      <td>Male</td>\n",
       "      <td>5178</td>\n",
       "      <td>0</td>\n",
       "      <td>60</td>\n",
       "      <td>Hungary</td>\n",
       "      <td>&gt;50K</td>\n",
       "    </tr>\n",
       "    <tr>\n",
       "      <th>...</th>\n",
       "      <td>...</td>\n",
       "      <td>...</td>\n",
       "      <td>...</td>\n",
       "      <td>...</td>\n",
       "      <td>...</td>\n",
       "      <td>...</td>\n",
       "      <td>...</td>\n",
       "      <td>...</td>\n",
       "      <td>...</td>\n",
       "      <td>...</td>\n",
       "      <td>...</td>\n",
       "      <td>...</td>\n",
       "      <td>...</td>\n",
       "      <td>...</td>\n",
       "      <td>...</td>\n",
       "      <td>...</td>\n",
       "    </tr>\n",
       "    <tr>\n",
       "      <th>32555</th>\n",
       "      <td>48835</td>\n",
       "      <td>42</td>\n",
       "      <td>Private</td>\n",
       "      <td>384236</td>\n",
       "      <td>Masters</td>\n",
       "      <td>14</td>\n",
       "      <td>Married-civ-spouse</td>\n",
       "      <td>Prof-specialty</td>\n",
       "      <td>Husband</td>\n",
       "      <td>White</td>\n",
       "      <td>Male</td>\n",
       "      <td>7688</td>\n",
       "      <td>0</td>\n",
       "      <td>40</td>\n",
       "      <td>United-States</td>\n",
       "      <td>&gt;50K</td>\n",
       "    </tr>\n",
       "    <tr>\n",
       "      <th>32556</th>\n",
       "      <td>48836</td>\n",
       "      <td>23</td>\n",
       "      <td>Private</td>\n",
       "      <td>129042</td>\n",
       "      <td>HS-grad</td>\n",
       "      <td>9</td>\n",
       "      <td>Never-married</td>\n",
       "      <td>Machine-op-inspct</td>\n",
       "      <td>Unmarried</td>\n",
       "      <td>Black</td>\n",
       "      <td>Female</td>\n",
       "      <td>0</td>\n",
       "      <td>0</td>\n",
       "      <td>40</td>\n",
       "      <td>United-States</td>\n",
       "      <td>&lt;=50K</td>\n",
       "    </tr>\n",
       "    <tr>\n",
       "      <th>32557</th>\n",
       "      <td>48837</td>\n",
       "      <td>30</td>\n",
       "      <td>Private</td>\n",
       "      <td>195488</td>\n",
       "      <td>HS-grad</td>\n",
       "      <td>9</td>\n",
       "      <td>Never-married</td>\n",
       "      <td>Priv-house-serv</td>\n",
       "      <td>Own-child</td>\n",
       "      <td>White</td>\n",
       "      <td>Female</td>\n",
       "      <td>0</td>\n",
       "      <td>0</td>\n",
       "      <td>40</td>\n",
       "      <td>Guatemala</td>\n",
       "      <td>&lt;=50K</td>\n",
       "    </tr>\n",
       "    <tr>\n",
       "      <th>32558</th>\n",
       "      <td>48838</td>\n",
       "      <td>18</td>\n",
       "      <td>Private</td>\n",
       "      <td>27620</td>\n",
       "      <td>HS-grad</td>\n",
       "      <td>9</td>\n",
       "      <td>Never-married</td>\n",
       "      <td>Adm-clerical</td>\n",
       "      <td>Not-in-family</td>\n",
       "      <td>White</td>\n",
       "      <td>Female</td>\n",
       "      <td>0</td>\n",
       "      <td>0</td>\n",
       "      <td>25</td>\n",
       "      <td>United-States</td>\n",
       "      <td>&lt;=50K</td>\n",
       "    </tr>\n",
       "    <tr>\n",
       "      <th>32559</th>\n",
       "      <td>48839</td>\n",
       "      <td>47</td>\n",
       "      <td>Local-gov</td>\n",
       "      <td>203067</td>\n",
       "      <td>Bachelors</td>\n",
       "      <td>13</td>\n",
       "      <td>Divorced</td>\n",
       "      <td>Prof-specialty</td>\n",
       "      <td>Not-in-family</td>\n",
       "      <td>White</td>\n",
       "      <td>Male</td>\n",
       "      <td>0</td>\n",
       "      <td>0</td>\n",
       "      <td>50</td>\n",
       "      <td>United-States</td>\n",
       "      <td>&lt;=50K</td>\n",
       "    </tr>\n",
       "  </tbody>\n",
       "</table>\n",
       "<p>32560 rows × 16 columns</p>\n",
       "</div>"
      ],
      "text/plain": [
       "          Id  age     workclass  fnlwgt     education  education.num  \\\n",
       "0      16280   34       Private  204991  Some-college             10   \n",
       "1      16281   58     Local-gov  310085          10th              6   \n",
       "2      16282   25       Private  146117  Some-college             10   \n",
       "3      16283   24       Private  138938  Some-college             10   \n",
       "4      16284   57  Self-emp-inc  258883       HS-grad              9   \n",
       "...      ...  ...           ...     ...           ...            ...   \n",
       "32555  48835   42       Private  384236       Masters             14   \n",
       "32556  48836   23       Private  129042       HS-grad              9   \n",
       "32557  48837   30       Private  195488       HS-grad              9   \n",
       "32558  48838   18       Private   27620       HS-grad              9   \n",
       "32559  48839   47     Local-gov  203067     Bachelors             13   \n",
       "\n",
       "           marital.status         occupation   relationship   race     sex  \\\n",
       "0                Divorced    Exec-managerial      Own-child  White    Male   \n",
       "1      Married-civ-spouse   Transport-moving        Husband  White    Male   \n",
       "2           Never-married  Machine-op-inspct  Not-in-family  White    Male   \n",
       "3                Divorced       Adm-clerical  Not-in-family  White  Female   \n",
       "4      Married-civ-spouse   Transport-moving        Husband  White    Male   \n",
       "...                   ...                ...            ...    ...     ...   \n",
       "32555  Married-civ-spouse     Prof-specialty        Husband  White    Male   \n",
       "32556       Never-married  Machine-op-inspct      Unmarried  Black  Female   \n",
       "32557       Never-married    Priv-house-serv      Own-child  White  Female   \n",
       "32558       Never-married       Adm-clerical  Not-in-family  White  Female   \n",
       "32559            Divorced     Prof-specialty  Not-in-family  White    Male   \n",
       "\n",
       "       capital.gain  capital.loss  hours.per.week native.country income  \n",
       "0                 0             0              44  United-States  <=50K  \n",
       "1                 0             0              40  United-States  <=50K  \n",
       "2                 0             0              42  United-States  <=50K  \n",
       "3                 0             0              40  United-States  <=50K  \n",
       "4              5178             0              60        Hungary   >50K  \n",
       "...             ...           ...             ...            ...    ...  \n",
       "32555          7688             0              40  United-States   >50K  \n",
       "32556             0             0              40  United-States  <=50K  \n",
       "32557             0             0              40      Guatemala  <=50K  \n",
       "32558             0             0              25  United-States  <=50K  \n",
       "32559             0             0              50  United-States  <=50K  \n",
       "\n",
       "[32560 rows x 16 columns]"
      ]
     },
     "execution_count": 7,
     "metadata": {},
     "output_type": "execute_result"
    }
   ],
   "source": [
    "train = pd.read_csv(\"~/Downloads/adult-pmr3508/train_data.csv\", \n",
    "                     sep = r'\\s*,\\s*', engine  = 'python',  na_values = \"?\")\n",
    "\n",
    "train"
   ]
  },
  {
   "cell_type": "markdown",
   "id": "022609a0",
   "metadata": {
    "papermill": {
     "duration": 0.023999,
     "end_time": "2021-09-27T17:45:14.758516",
     "exception": false,
     "start_time": "2021-09-27T17:45:14.734517",
     "status": "completed"
    },
    "tags": []
   },
   "source": [
    "## 1. Organização da base de dados\n",
    "\n",
    "Por meio da análise dos gráficos conseguiremos determinar inicialmente as relações entre as outras features e o income. "
   ]
  },
  {
   "cell_type": "code",
   "execution_count": 8,
   "id": "07033047",
   "metadata": {
    "execution": {
     "iopub.execute_input": "2021-09-27T17:45:14.814119Z",
     "iopub.status.busy": "2021-09-27T17:45:14.813415Z",
     "iopub.status.idle": "2021-09-27T17:45:16.982058Z",
     "shell.execute_reply": "2021-09-27T17:45:16.982760Z",
     "shell.execute_reply.started": "2021-09-27T17:43:03.935669Z"
    },
    "papermill": {
     "duration": 2.200081,
     "end_time": "2021-09-27T17:45:16.983047",
     "exception": false,
     "start_time": "2021-09-27T17:45:14.782966",
     "status": "completed"
    },
    "tags": []
   },
   "outputs": [
    {
     "data": {
      "image/png": "[encoded data removed]",
      "text/plain": [
       "<Figure size 360x360 with 1 Axes>"
      ]
     },
     "metadata": {
      "needs_background": "light"
     },
     "output_type": "display_data"
    },
    {
     "data": {
      "image/png": "[encoded data removed]",
      "text/plain": [
       "<Figure size 360x360 with 1 Axes>"
      ]
     },
     "metadata": {
      "needs_background": "light"
     },
     "output_type": "display_data"
    },
    {
     "data": {
      "image/png": "[encoded data removed]",
      "text/plain": [
       "<Figure size 360x360 with 1 Axes>"
      ]
     },
     "metadata": {
      "needs_background": "light"
     },
     "output_type": "display_data"
    },
    {
     "data": {
      "image/png": "[encoded data removed]",
      "text/plain": [
       "<Figure size 360x360 with 1 Axes>"
      ]
     },
     "metadata": {
      "needs_background": "light"
     },
     "output_type": "display_data"
    },
    {
     "data": {
      "image/png": "[encoded data removed]",
      "text/plain": [
       "<Figure size 360x360 with 1 Axes>"
      ]
     },
     "metadata": {
      "needs_background": "light"
     },
     "output_type": "display_data"
    },
    {
     "data": {
      "image/png": "[encoded data removed]",
      "text/plain": [
       "<Figure size 360x360 with 1 Axes>"
      ]
     },
     "metadata": {
      "needs_background": "light"
     },
     "output_type": "display_data"
    }
   ],
   "source": [
    "#analise dos dados numericos\n",
    "colums = [ \"age\", \"fnlwgt\", \"education.num\", \"capital.gain\", \"capital.loss\",\"hours.per.week\"]\n",
    "analise = train.copy()\n",
    "for i in colums:\n",
    "    sns.catplot(x = \"income\", y = i, kind = \"box\", data = analise)"
   ]
  },
  {
   "cell_type": "markdown",
   "id": "548a7284",
   "metadata": {
    "papermill": {
     "duration": 0.036752,
     "end_time": "2021-09-27T17:45:17.056451",
     "exception": false,
     "start_time": "2021-09-27T17:45:17.019699",
     "status": "completed"
    },
    "tags": []
   },
   "source": [
    "Nessa primeira análise, podemos ver que o parâmetro fnlwgt tem praticamente o mesmo comportamento independente do income apresentado e por tanto pode ser desconsiderado. É possível observar também que os parâmetros capital gain e capital loss são muito dispersos e portanto criar um outro parâmetro que una os dois e diminua o efeito dos outliers se mostra necessário."
   ]
  },
  {
   "cell_type": "code",
   "execution_count": 9,
   "id": "85f18418",
   "metadata": {
    "execution": {
     "iopub.execute_input": "2021-09-27T17:45:17.131457Z",
     "iopub.status.busy": "2021-09-27T17:45:17.130249Z",
     "iopub.status.idle": "2021-09-27T17:45:20.886391Z",
     "shell.execute_reply": "2021-09-27T17:45:20.886889Z",
     "shell.execute_reply.started": "2021-09-27T17:43:06.184373Z"
    },
    "papermill": {
     "duration": 3.795651,
     "end_time": "2021-09-27T17:45:20.887098",
     "exception": false,
     "start_time": "2021-09-27T17:45:17.091447",
     "status": "completed"
    },
    "tags": []
   },
   "outputs": [
    {
     "data": {
      "image/png": "[encoded data removed]",
      "text/plain": [
       "<Figure size 360x360 with 1 Axes>"
      ]
     },
     "metadata": {
      "needs_background": "light"
     },
     "output_type": "display_data"
    },
    {
     "data": {
      "image/png": "[encoded data removed]",
      "text/plain": [
       "<Figure size 360x360 with 1 Axes>"
      ]
     },
     "metadata": {
      "needs_background": "light"
     },
     "output_type": "display_data"
    },
    {
     "data": {
      "image/png": "[encoded data removed]",
      "text/plain": [
       "<Figure size 360x360 with 1 Axes>"
      ]
     },
     "metadata": {
      "needs_background": "light"
     },
     "output_type": "display_data"
    },
    {
     "data": {
      "image/png": "[encoded data removed]",
      "text/plain": [
       "<Figure size 360x360 with 1 Axes>"
      ]
     },
     "metadata": {
      "needs_background": "light"
     },
     "output_type": "display_data"
    },
    {
     "data": {
      "image/png": "[encoded data removed]",
      "text/plain": [
       "<Figure size 360x360 with 1 Axes>"
      ]
     },
     "metadata": {
      "needs_background": "light"
     },
     "output_type": "display_data"
    },
    {
     "data": {
      "image/png": "[encoded data removed]",
      "text/plain": [
       "<Figure size 360x360 with 1 Axes>"
      ]
     },
     "metadata": {
      "needs_background": "light"
     },
     "output_type": "display_data"
    },
    {
     "data": {
      "image/png": "[encoded data removed]",
      "text/plain": [
       "<Figure size 360x360 with 1 Axes>"
      ]
     },
     "metadata": {
      "needs_background": "light"
     },
     "output_type": "display_data"
    },
    {
     "data": {
      "image/png": "[encoded data removed]",
      "text/plain": [
       "<Figure size 360x360 with 1 Axes>"
      ]
     },
     "metadata": {
      "needs_background": "light"
     },
     "output_type": "display_data"
    }
   ],
   "source": [
    "#analise dos dados qualitativos\n",
    "qualitativos = [ \"workclass\", \"education\",  \"marital.status\",\n",
    "            \"occupation\", \"relationship\", \"race\", \"sex\", \"native.country\"]\n",
    "\n",
    "for i in qualitativos:\n",
    "    sns.catplot(y = i,  kind = \"count\", data = analise)"
   ]
  },
  {
   "cell_type": "markdown",
   "id": "07e5a719",
   "metadata": {
    "papermill": {
     "duration": 0.037531,
     "end_time": "2021-09-27T17:45:20.961854",
     "exception": false,
     "start_time": "2021-09-27T17:45:20.924323",
     "status": "completed"
    },
    "tags": []
   },
   "source": [
    "Já nesse caso, vemos que a presença da nacionalidade americana é muito maior do que a de qualquer outro país e por tanto o uso dessa medida de análise não beneficiará o modelo."
   ]
  },
  {
   "cell_type": "code",
   "execution_count": 10,
   "id": "8b5b5883",
   "metadata": {
    "execution": {
     "iopub.execute_input": "2021-09-27T17:45:21.047827Z",
     "iopub.status.busy": "2021-09-27T17:45:21.046839Z",
     "iopub.status.idle": "2021-09-27T17:45:21.083130Z",
     "shell.execute_reply": "2021-09-27T17:45:21.082418Z",
     "shell.execute_reply.started": "2021-09-27T17:43:09.958504Z"
    },
    "papermill": {
     "duration": 0.084178,
     "end_time": "2021-09-27T17:45:21.083310",
     "exception": false,
     "start_time": "2021-09-27T17:45:20.999132",
     "status": "completed"
    },
    "scrolled": true,
    "tags": []
   },
   "outputs": [
    {
     "data": {
      "text/html": [
       "<div>\n",
       "<style scoped>\n",
       "    .dataframe tbody tr th:only-of-type {\n",
       "        vertical-align: middle;\n",
       "    }\n",
       "\n",
       "    .dataframe tbody tr th {\n",
       "        vertical-align: top;\n",
       "    }\n",
       "\n",
       "    .dataframe thead th {\n",
       "        text-align: right;\n",
       "    }\n",
       "</style>\n",
       "<table border=\"1\" class=\"dataframe\">\n",
       "  <thead>\n",
       "    <tr style=\"text-align: right;\">\n",
       "      <th></th>\n",
       "      <th>Id</th>\n",
       "      <th>age</th>\n",
       "      <th>workclass</th>\n",
       "      <th>education</th>\n",
       "      <th>education.num</th>\n",
       "      <th>marital.status</th>\n",
       "      <th>occupation</th>\n",
       "      <th>relationship</th>\n",
       "      <th>race</th>\n",
       "      <th>sex</th>\n",
       "      <th>hours.per.week</th>\n",
       "      <th>income</th>\n",
       "      <th>capital</th>\n",
       "    </tr>\n",
       "  </thead>\n",
       "  <tbody>\n",
       "    <tr>\n",
       "      <th>0</th>\n",
       "      <td>16280</td>\n",
       "      <td>34</td>\n",
       "      <td>Private</td>\n",
       "      <td>Some-college</td>\n",
       "      <td>10</td>\n",
       "      <td>Divorced</td>\n",
       "      <td>Exec-managerial</td>\n",
       "      <td>Own-child</td>\n",
       "      <td>White</td>\n",
       "      <td>Male</td>\n",
       "      <td>44</td>\n",
       "      <td>&lt;=50K</td>\n",
       "      <td>0.0</td>\n",
       "    </tr>\n",
       "    <tr>\n",
       "      <th>1</th>\n",
       "      <td>16281</td>\n",
       "      <td>58</td>\n",
       "      <td>Local-gov</td>\n",
       "      <td>10th</td>\n",
       "      <td>6</td>\n",
       "      <td>Married-civ-spouse</td>\n",
       "      <td>Transport-moving</td>\n",
       "      <td>Husband</td>\n",
       "      <td>White</td>\n",
       "      <td>Male</td>\n",
       "      <td>40</td>\n",
       "      <td>&lt;=50K</td>\n",
       "      <td>0.0</td>\n",
       "    </tr>\n",
       "    <tr>\n",
       "      <th>2</th>\n",
       "      <td>16282</td>\n",
       "      <td>25</td>\n",
       "      <td>Private</td>\n",
       "      <td>Some-college</td>\n",
       "      <td>10</td>\n",
       "      <td>Never-married</td>\n",
       "      <td>Machine-op-inspct</td>\n",
       "      <td>Not-in-family</td>\n",
       "      <td>White</td>\n",
       "      <td>Male</td>\n",
       "      <td>42</td>\n",
       "      <td>&lt;=50K</td>\n",
       "      <td>0.0</td>\n",
       "    </tr>\n",
       "    <tr>\n",
       "      <th>3</th>\n",
       "      <td>16283</td>\n",
       "      <td>24</td>\n",
       "      <td>Private</td>\n",
       "      <td>Some-college</td>\n",
       "      <td>10</td>\n",
       "      <td>Divorced</td>\n",
       "      <td>Adm-clerical</td>\n",
       "      <td>Not-in-family</td>\n",
       "      <td>White</td>\n",
       "      <td>Female</td>\n",
       "      <td>40</td>\n",
       "      <td>&lt;=50K</td>\n",
       "      <td>0.0</td>\n",
       "    </tr>\n",
       "    <tr>\n",
       "      <th>4</th>\n",
       "      <td>16284</td>\n",
       "      <td>57</td>\n",
       "      <td>Self-emp-inc</td>\n",
       "      <td>HS-grad</td>\n",
       "      <td>9</td>\n",
       "      <td>Married-civ-spouse</td>\n",
       "      <td>Transport-moving</td>\n",
       "      <td>Husband</td>\n",
       "      <td>White</td>\n",
       "      <td>Male</td>\n",
       "      <td>60</td>\n",
       "      <td>&gt;50K</td>\n",
       "      <td>5178.0</td>\n",
       "    </tr>\n",
       "  </tbody>\n",
       "</table>\n",
       "</div>"
      ],
      "text/plain": [
       "      Id  age     workclass     education  education.num      marital.status  \\\n",
       "0  16280   34       Private  Some-college             10            Divorced   \n",
       "1  16281   58     Local-gov          10th              6  Married-civ-spouse   \n",
       "2  16282   25       Private  Some-college             10       Never-married   \n",
       "3  16283   24       Private  Some-college             10            Divorced   \n",
       "4  16284   57  Self-emp-inc       HS-grad              9  Married-civ-spouse   \n",
       "\n",
       "          occupation   relationship   race     sex  hours.per.week income  \\\n",
       "0    Exec-managerial      Own-child  White    Male              44  <=50K   \n",
       "1   Transport-moving        Husband  White    Male              40  <=50K   \n",
       "2  Machine-op-inspct  Not-in-family  White    Male              42  <=50K   \n",
       "3       Adm-clerical  Not-in-family  White  Female              40  <=50K   \n",
       "4   Transport-moving        Husband  White    Male              60   >50K   \n",
       "\n",
       "   capital  \n",
       "0      0.0  \n",
       "1      0.0  \n",
       "2      0.0  \n",
       "3      0.0  \n",
       "4   5178.0  "
      ]
     },
     "execution_count": 10,
     "metadata": {},
     "output_type": "execute_result"
    }
   ],
   "source": [
    "#diminui o efeito dos outliers \n",
    "train[\"capital\"] = train['capital.gain'] - train['capital.loss']\n",
    "\n",
    "cap = [\"capital\"]\n",
    "train[cap] = RobustScaler().fit_transform(train[cap])\n",
    "\n",
    "#variaveis descartadas para a avaliacao de acordo com os graficos\n",
    "train.drop('capital.loss', axis = 'columns', inplace = True)\n",
    "train.drop('capital.gain', axis = 'columns', inplace = True)\n",
    "train.drop('fnlwgt', axis = 'columns', inplace = True)\n",
    "train.drop('native.country', axis = 'columns', inplace = True)\n",
    "\n",
    "train.head()"
   ]
  },
  {
   "cell_type": "markdown",
   "id": "7e8b3014",
   "metadata": {
    "papermill": {
     "duration": 0.036564,
     "end_time": "2021-09-27T17:45:21.159383",
     "exception": false,
     "start_time": "2021-09-27T17:45:21.122819",
     "status": "completed"
    },
    "tags": []
   },
   "source": [
    "### 1.1 Retirando os valores que estão faltando"
   ]
  },
  {
   "cell_type": "code",
   "execution_count": 11,
   "id": "4cc49013",
   "metadata": {
    "execution": {
     "iopub.execute_input": "2021-09-27T17:45:21.272286Z",
     "iopub.status.busy": "2021-09-27T17:45:21.271260Z",
     "iopub.status.idle": "2021-09-27T17:45:21.275408Z",
     "shell.execute_reply": "2021-09-27T17:45:21.274735Z",
     "shell.execute_reply.started": "2021-09-27T17:43:10.001567Z"
    },
    "papermill": {
     "duration": 0.078837,
     "end_time": "2021-09-27T17:45:21.275572",
     "exception": false,
     "start_time": "2021-09-27T17:45:21.196735",
     "status": "completed"
    },
    "tags": []
   },
   "outputs": [
    {
     "data": {
      "text/plain": [
       "Id                   0\n",
       "age                  0\n",
       "workclass         1836\n",
       "education            0\n",
       "education.num        0\n",
       "marital.status       0\n",
       "occupation        1843\n",
       "relationship         0\n",
       "race                 0\n",
       "sex                  0\n",
       "hours.per.week       0\n",
       "income               0\n",
       "capital              0\n",
       "dtype: int64"
      ]
     },
     "execution_count": 11,
     "metadata": {},
     "output_type": "execute_result"
    }
   ],
   "source": [
    "#quais os dados faltantes\n",
    "train.isna().sum()"
   ]
  },
  {
   "cell_type": "markdown",
   "id": "79522b9f",
   "metadata": {
    "papermill": {
     "duration": 0.037305,
     "end_time": "2021-09-27T17:45:21.350425",
     "exception": false,
     "start_time": "2021-09-27T17:45:21.313120",
     "status": "completed"
    },
    "tags": []
   },
   "source": [
    "Vemos que Workclass, Occupation possuem dados faltantes, assim substituires esses dados pela moda"
   ]
  },
  {
   "cell_type": "code",
   "execution_count": 12,
   "id": "fedcfcb8",
   "metadata": {
    "execution": {
     "iopub.execute_input": "2021-09-27T17:45:21.439903Z",
     "iopub.status.busy": "2021-09-27T17:45:21.438983Z",
     "iopub.status.idle": "2021-09-27T17:45:21.443037Z",
     "shell.execute_reply": "2021-09-27T17:45:21.442500Z",
     "shell.execute_reply.started": "2021-09-27T17:43:10.040445Z"
    },
    "papermill": {
     "duration": 0.055352,
     "end_time": "2021-09-27T17:45:21.443197",
     "exception": false,
     "start_time": "2021-09-27T17:45:21.387845",
     "status": "completed"
    },
    "tags": []
   },
   "outputs": [
    {
     "data": {
      "text/plain": [
       "Private             22696\n",
       "Self-emp-not-inc     2541\n",
       "Local-gov            2093\n",
       "State-gov            1297\n",
       "Self-emp-inc         1116\n",
       "Federal-gov           960\n",
       "Without-pay            14\n",
       "Never-worked            7\n",
       "Name: workclass, dtype: int64"
      ]
     },
     "execution_count": 12,
     "metadata": {},
     "output_type": "execute_result"
    }
   ],
   "source": [
    "train[\"workclass\"].value_counts()"
   ]
  },
  {
   "cell_type": "code",
   "execution_count": 13,
   "id": "5e5fe642",
   "metadata": {
    "execution": {
     "iopub.execute_input": "2021-09-27T17:45:21.532454Z",
     "iopub.status.busy": "2021-09-27T17:45:21.531556Z",
     "iopub.status.idle": "2021-09-27T17:45:21.535417Z",
     "shell.execute_reply": "2021-09-27T17:45:21.534899Z",
     "shell.execute_reply.started": "2021-09-27T17:43:10.056405Z"
    },
    "papermill": {
     "duration": 0.053387,
     "end_time": "2021-09-27T17:45:21.535579",
     "exception": false,
     "start_time": "2021-09-27T17:45:21.482192",
     "status": "completed"
    },
    "tags": []
   },
   "outputs": [
    {
     "data": {
      "text/plain": [
       "Prof-specialty       4140\n",
       "Craft-repair         4099\n",
       "Exec-managerial      4066\n",
       "Adm-clerical         3769\n",
       "Sales                3650\n",
       "Other-service        3295\n",
       "Machine-op-inspct    2002\n",
       "Transport-moving     1597\n",
       "Handlers-cleaners    1370\n",
       "Farming-fishing       994\n",
       "Tech-support          928\n",
       "Protective-serv       649\n",
       "Priv-house-serv       149\n",
       "Armed-Forces            9\n",
       "Name: occupation, dtype: int64"
      ]
     },
     "execution_count": 13,
     "metadata": {},
     "output_type": "execute_result"
    }
   ],
   "source": [
    "train[\"occupation\"].value_counts()"
   ]
  },
  {
   "cell_type": "code",
   "execution_count": 14,
   "id": "ec00e335",
   "metadata": {
    "execution": {
     "iopub.execute_input": "2021-09-27T17:45:21.659827Z",
     "iopub.status.busy": "2021-09-27T17:45:21.629249Z",
     "iopub.status.idle": "2021-09-27T17:45:21.671726Z",
     "shell.execute_reply": "2021-09-27T17:45:21.670982Z",
     "shell.execute_reply.started": "2021-09-27T17:43:10.072252Z"
    },
    "papermill": {
     "duration": 0.099018,
     "end_time": "2021-09-27T17:45:21.671939",
     "exception": false,
     "start_time": "2021-09-27T17:45:21.572921",
     "status": "completed"
    },
    "tags": []
   },
   "outputs": [
    {
     "data": {
      "text/plain": [
       "Id                0\n",
       "age               0\n",
       "workclass         0\n",
       "education         0\n",
       "education.num     0\n",
       "marital.status    0\n",
       "occupation        0\n",
       "relationship      0\n",
       "race              0\n",
       "sex               0\n",
       "hours.per.week    0\n",
       "income            0\n",
       "capital           0\n",
       "dtype: int64"
      ]
     },
     "execution_count": 14,
     "metadata": {},
     "output_type": "execute_result"
    }
   ],
   "source": [
    "#substitui os valores\n",
    "train[\"workclass\"] = train[\"workclass\"].fillna('Private')\n",
    "train[\"occupation\"] = train[\"occupation\"].fillna('Prof-specialty')\n",
    "\n",
    "#verifica se ainda tem valores faltando\n",
    "train.isna().sum()"
   ]
  },
  {
   "cell_type": "code",
   "execution_count": 15,
   "id": "a62e80df",
   "metadata": {
    "execution": {
     "iopub.execute_input": "2021-09-27T17:45:21.791657Z",
     "iopub.status.busy": "2021-09-27T17:45:21.761752Z",
     "iopub.status.idle": "2021-09-27T17:45:21.910607Z",
     "shell.execute_reply": "2021-09-27T17:45:21.909747Z",
     "shell.execute_reply.started": "2021-09-27T17:43:10.127239Z"
    },
    "papermill": {
     "duration": 0.196181,
     "end_time": "2021-09-27T17:45:21.910811",
     "exception": false,
     "start_time": "2021-09-27T17:45:21.714630",
     "status": "completed"
    },
    "tags": []
   },
   "outputs": [
    {
     "data": {
      "text/html": [
       "<div>\n",
       "<style scoped>\n",
       "    .dataframe tbody tr th:only-of-type {\n",
       "        vertical-align: middle;\n",
       "    }\n",
       "\n",
       "    .dataframe tbody tr th {\n",
       "        vertical-align: top;\n",
       "    }\n",
       "\n",
       "    .dataframe thead th {\n",
       "        text-align: right;\n",
       "    }\n",
       "</style>\n",
       "<table border=\"1\" class=\"dataframe\">\n",
       "  <thead>\n",
       "    <tr style=\"text-align: right;\">\n",
       "      <th></th>\n",
       "      <th>Id</th>\n",
       "      <th>age</th>\n",
       "      <th>workclass</th>\n",
       "      <th>education</th>\n",
       "      <th>education.num</th>\n",
       "      <th>marital.status</th>\n",
       "      <th>occupation</th>\n",
       "      <th>relationship</th>\n",
       "      <th>race</th>\n",
       "      <th>sex</th>\n",
       "      <th>hours.per.week</th>\n",
       "      <th>income</th>\n",
       "      <th>capital</th>\n",
       "    </tr>\n",
       "  </thead>\n",
       "  <tbody>\n",
       "    <tr>\n",
       "      <th>0</th>\n",
       "      <td>16280</td>\n",
       "      <td>34</td>\n",
       "      <td>3.0</td>\n",
       "      <td>15.0</td>\n",
       "      <td>10</td>\n",
       "      <td>0.0</td>\n",
       "      <td>3.0</td>\n",
       "      <td>3.0</td>\n",
       "      <td>4.0</td>\n",
       "      <td>1.0</td>\n",
       "      <td>44</td>\n",
       "      <td>0</td>\n",
       "      <td>0.0</td>\n",
       "    </tr>\n",
       "    <tr>\n",
       "      <th>1</th>\n",
       "      <td>16281</td>\n",
       "      <td>58</td>\n",
       "      <td>1.0</td>\n",
       "      <td>0.0</td>\n",
       "      <td>6</td>\n",
       "      <td>2.0</td>\n",
       "      <td>13.0</td>\n",
       "      <td>0.0</td>\n",
       "      <td>4.0</td>\n",
       "      <td>1.0</td>\n",
       "      <td>40</td>\n",
       "      <td>0</td>\n",
       "      <td>0.0</td>\n",
       "    </tr>\n",
       "    <tr>\n",
       "      <th>2</th>\n",
       "      <td>16282</td>\n",
       "      <td>25</td>\n",
       "      <td>3.0</td>\n",
       "      <td>15.0</td>\n",
       "      <td>10</td>\n",
       "      <td>4.0</td>\n",
       "      <td>6.0</td>\n",
       "      <td>1.0</td>\n",
       "      <td>4.0</td>\n",
       "      <td>1.0</td>\n",
       "      <td>42</td>\n",
       "      <td>0</td>\n",
       "      <td>0.0</td>\n",
       "    </tr>\n",
       "    <tr>\n",
       "      <th>3</th>\n",
       "      <td>16283</td>\n",
       "      <td>24</td>\n",
       "      <td>3.0</td>\n",
       "      <td>15.0</td>\n",
       "      <td>10</td>\n",
       "      <td>0.0</td>\n",
       "      <td>0.0</td>\n",
       "      <td>1.0</td>\n",
       "      <td>4.0</td>\n",
       "      <td>0.0</td>\n",
       "      <td>40</td>\n",
       "      <td>0</td>\n",
       "      <td>0.0</td>\n",
       "    </tr>\n",
       "    <tr>\n",
       "      <th>4</th>\n",
       "      <td>16284</td>\n",
       "      <td>57</td>\n",
       "      <td>4.0</td>\n",
       "      <td>11.0</td>\n",
       "      <td>9</td>\n",
       "      <td>2.0</td>\n",
       "      <td>13.0</td>\n",
       "      <td>0.0</td>\n",
       "      <td>4.0</td>\n",
       "      <td>1.0</td>\n",
       "      <td>60</td>\n",
       "      <td>1</td>\n",
       "      <td>5178.0</td>\n",
       "    </tr>\n",
       "  </tbody>\n",
       "</table>\n",
       "</div>"
      ],
      "text/plain": [
       "      Id  age  workclass  education  education.num  marital.status  \\\n",
       "0  16280   34        3.0       15.0             10             0.0   \n",
       "1  16281   58        1.0        0.0              6             2.0   \n",
       "2  16282   25        3.0       15.0             10             4.0   \n",
       "3  16283   24        3.0       15.0             10             0.0   \n",
       "4  16284   57        4.0       11.0              9             2.0   \n",
       "\n",
       "   occupation  relationship  race  sex  hours.per.week  income  capital  \n",
       "0         3.0           3.0   4.0  1.0              44       0      0.0  \n",
       "1        13.0           0.0   4.0  1.0              40       0      0.0  \n",
       "2         6.0           1.0   4.0  1.0              42       0      0.0  \n",
       "3         0.0           1.0   4.0  0.0              40       0      0.0  \n",
       "4        13.0           0.0   4.0  1.0              60       1   5178.0  "
      ]
     },
     "execution_count": 15,
     "metadata": {},
     "output_type": "execute_result"
    }
   ],
   "source": [
    "# convertendo variáveis qualitativas para um valor numérico\n",
    "qualitativos = [ \"workclass\", \"education\",  \"marital.status\",\n",
    "                \"occupation\", \"relationship\", \"race\", \"sex\"]\n",
    "\n",
    "train[qualitativos] = OrdinalEncoder().fit_transform(train[qualitativos])\n",
    "\n",
    "la_encoder = LabelEncoder()\n",
    "la_encoder.fit(train[\"income\"] )\n",
    "train[\"income\"] = la_encoder.transform(train[\"income\"] )\n",
    "\n",
    "train.head()"
   ]
  },
  {
   "cell_type": "code",
   "execution_count": 16,
   "id": "7f8ff4fe",
   "metadata": {
    "execution": {
     "iopub.execute_input": "2021-09-27T17:45:22.001089Z",
     "iopub.status.busy": "2021-09-27T17:45:22.000022Z",
     "iopub.status.idle": "2021-09-27T17:45:23.111339Z",
     "shell.execute_reply": "2021-09-27T17:45:23.112152Z",
     "shell.execute_reply.started": "2021-09-27T17:43:10.279546Z"
    },
    "papermill": {
     "duration": 1.160832,
     "end_time": "2021-09-27T17:45:23.112404",
     "exception": false,
     "start_time": "2021-09-27T17:45:21.951572",
     "status": "completed"
    },
    "scrolled": true,
    "tags": []
   },
   "outputs": [
    {
     "data": {
      "image/png": "[encoded data removed]",
      "text/plain": [
       "<Figure size 1152x1152 with 2 Axes>"
      ]
     },
     "metadata": {
      "needs_background": "light"
     },
     "output_type": "display_data"
    }
   ],
   "source": [
    "plt.figure(figsize=(16,16))\n",
    "sns.heatmap(train.corr(), cmap='rainbow',vmin = -0.4, vmax = 0.4, annot=True, square=True)\n",
    "plt.show()"
   ]
  },
  {
   "cell_type": "markdown",
   "id": "10e37d87",
   "metadata": {
    "papermill": {
     "duration": 0.040808,
     "end_time": "2021-09-27T17:45:23.196665",
     "exception": false,
     "start_time": "2021-09-27T17:45:23.155857",
     "status": "completed"
    },
    "tags": []
   },
   "source": [
    "Pela heatmap acima podemos ver que os parâmetros com maiores covariâncias são: hours per week, capital, education num e age; assim, fazendo a normalização dos valores deles teremos uma precisão maior visto o quão influentes positivamente para o modelo eles são. Também vemos que o Id e race têm covariância muito próxima de zero e education tem covariância muito menor em comparaçao com education num, portanto podemos retirá-los dos parâmetros do modelo.\n"
   ]
  },
  {
   "cell_type": "code",
   "execution_count": 17,
   "id": "e09999be",
   "metadata": {
    "execution": {
     "iopub.execute_input": "2021-09-27T17:45:23.284835Z",
     "iopub.status.busy": "2021-09-27T17:45:23.284185Z",
     "iopub.status.idle": "2021-09-27T17:45:23.304926Z",
     "shell.execute_reply": "2021-09-27T17:45:23.304096Z",
     "shell.execute_reply.started": "2021-09-27T17:43:11.429744Z"
    },
    "papermill": {
     "duration": 0.066304,
     "end_time": "2021-09-27T17:45:23.305082",
     "exception": false,
     "start_time": "2021-09-27T17:45:23.238778",
     "status": "completed"
    },
    "tags": []
   },
   "outputs": [],
   "source": [
    "alto_cov = [\"age\", \"education.num\", \"hours.per.week\"]\n",
    "train[alto_cov] = StandardScaler().fit_transform(train[alto_cov])"
   ]
  },
  {
   "cell_type": "markdown",
   "id": "86cfe847",
   "metadata": {
    "papermill": {
     "duration": 0.055798,
     "end_time": "2021-09-27T17:45:23.406382",
     "exception": false,
     "start_time": "2021-09-27T17:45:23.350584",
     "status": "completed"
    },
    "tags": []
   },
   "source": [
    "Em seguida, para treinar o modelo e fazer sua validação, foi separada a base de dados em 80% para treino e 20% para validação."
   ]
  },
  {
   "cell_type": "code",
   "execution_count": 18,
   "id": "2f8a1a0f",
   "metadata": {
    "execution": {
     "iopub.execute_input": "2021-09-27T17:45:23.506832Z",
     "iopub.status.busy": "2021-09-27T17:45:23.505030Z",
     "iopub.status.idle": "2021-09-27T17:45:23.515844Z",
     "shell.execute_reply": "2021-09-27T17:45:23.515182Z",
     "shell.execute_reply.started": "2021-09-27T17:43:11.447108Z"
    },
    "papermill": {
     "duration": 0.060422,
     "end_time": "2021-09-27T17:45:23.516032",
     "exception": false,
     "start_time": "2021-09-27T17:45:23.455610",
     "status": "completed"
    },
    "tags": []
   },
   "outputs": [
    {
     "data": {
      "text/html": [
       "<div>\n",
       "<style scoped>\n",
       "    .dataframe tbody tr th:only-of-type {\n",
       "        vertical-align: middle;\n",
       "    }\n",
       "\n",
       "    .dataframe tbody tr th {\n",
       "        vertical-align: top;\n",
       "    }\n",
       "\n",
       "    .dataframe thead th {\n",
       "        text-align: right;\n",
       "    }\n",
       "</style>\n",
       "<table border=\"1\" class=\"dataframe\">\n",
       "  <thead>\n",
       "    <tr style=\"text-align: right;\">\n",
       "      <th></th>\n",
       "      <th>age</th>\n",
       "      <th>workclass</th>\n",
       "      <th>education.num</th>\n",
       "      <th>marital.status</th>\n",
       "      <th>occupation</th>\n",
       "      <th>sex</th>\n",
       "      <th>hours.per.week</th>\n",
       "      <th>capital</th>\n",
       "    </tr>\n",
       "  </thead>\n",
       "  <tbody>\n",
       "    <tr>\n",
       "      <th>0</th>\n",
       "      <td>-0.335886</td>\n",
       "      <td>3.0</td>\n",
       "      <td>-0.031325</td>\n",
       "      <td>0.0</td>\n",
       "      <td>3.0</td>\n",
       "      <td>1.0</td>\n",
       "      <td>0.288524</td>\n",
       "      <td>0.0</td>\n",
       "    </tr>\n",
       "    <tr>\n",
       "      <th>1</th>\n",
       "      <td>1.423589</td>\n",
       "      <td>1.0</td>\n",
       "      <td>-1.586131</td>\n",
       "      <td>2.0</td>\n",
       "      <td>13.0</td>\n",
       "      <td>1.0</td>\n",
       "      <td>-0.035430</td>\n",
       "      <td>0.0</td>\n",
       "    </tr>\n",
       "    <tr>\n",
       "      <th>2</th>\n",
       "      <td>-0.995689</td>\n",
       "      <td>3.0</td>\n",
       "      <td>-0.031325</td>\n",
       "      <td>4.0</td>\n",
       "      <td>6.0</td>\n",
       "      <td>1.0</td>\n",
       "      <td>0.126547</td>\n",
       "      <td>0.0</td>\n",
       "    </tr>\n",
       "    <tr>\n",
       "      <th>3</th>\n",
       "      <td>-1.069001</td>\n",
       "      <td>3.0</td>\n",
       "      <td>-0.031325</td>\n",
       "      <td>0.0</td>\n",
       "      <td>0.0</td>\n",
       "      <td>0.0</td>\n",
       "      <td>-0.035430</td>\n",
       "      <td>0.0</td>\n",
       "    </tr>\n",
       "    <tr>\n",
       "      <th>4</th>\n",
       "      <td>1.350277</td>\n",
       "      <td>4.0</td>\n",
       "      <td>-0.420027</td>\n",
       "      <td>2.0</td>\n",
       "      <td>13.0</td>\n",
       "      <td>1.0</td>\n",
       "      <td>1.584340</td>\n",
       "      <td>5178.0</td>\n",
       "    </tr>\n",
       "  </tbody>\n",
       "</table>\n",
       "</div>"
      ],
      "text/plain": [
       "        age  workclass  education.num  marital.status  occupation  sex  \\\n",
       "0 -0.335886        3.0      -0.031325             0.0         3.0  1.0   \n",
       "1  1.423589        1.0      -1.586131             2.0        13.0  1.0   \n",
       "2 -0.995689        3.0      -0.031325             4.0         6.0  1.0   \n",
       "3 -1.069001        3.0      -0.031325             0.0         0.0  0.0   \n",
       "4  1.350277        4.0      -0.420027             2.0        13.0  1.0   \n",
       "\n",
       "   hours.per.week  capital  \n",
       "0        0.288524      0.0  \n",
       "1       -0.035430      0.0  \n",
       "2        0.126547      0.0  \n",
       "3       -0.035430      0.0  \n",
       "4        1.584340   5178.0  "
      ]
     },
     "execution_count": 18,
     "metadata": {},
     "output_type": "execute_result"
    }
   ],
   "source": [
    "#separação dos dados\n",
    "training = train.iloc[:6512, :]\n",
    "validation = train.iloc[6513:, :]\n",
    "\n",
    "Ytrain = training.income\n",
    "Xtrain = training.drop(columns=[\"Id\", \"income\",  \"relationship\", \"education\", \"race\"])\n",
    "\n",
    "Yvalidation = validation.income\n",
    "Xvalidation = validation.drop(columns=[\"Id\", \"income\",  \"relationship\", \"education\", \"race\"])\n",
    "Xtrain.head()\n"
   ]
  },
  {
   "cell_type": "markdown",
   "id": "6f741209",
   "metadata": {
    "papermill": {
     "duration": 0.045666,
     "end_time": "2021-09-27T17:45:23.605465",
     "exception": false,
     "start_time": "2021-09-27T17:45:23.559799",
     "status": "completed"
    },
    "tags": []
   },
   "source": [
    "## 2. Criação do Modelo KNN\n",
    "\n",
    "Por meio de testes foi possível observar que o k que nos dá melhor resultado é 21 e cv = 10\n"
   ]
  },
  {
   "cell_type": "code",
   "execution_count": 19,
   "id": "749921bb",
   "metadata": {
    "execution": {
     "iopub.execute_input": "2021-09-27T17:45:23.697493Z",
     "iopub.status.busy": "2021-09-27T17:45:23.696728Z",
     "iopub.status.idle": "2021-09-27T17:45:24.645233Z",
     "shell.execute_reply": "2021-09-27T17:45:24.644331Z",
     "shell.execute_reply.started": "2021-09-27T17:43:11.461921Z"
    },
    "papermill": {
     "duration": 0.996507,
     "end_time": "2021-09-27T17:45:24.645455",
     "exception": false,
     "start_time": "2021-09-27T17:45:23.648948",
     "status": "completed"
    },
    "tags": []
   },
   "outputs": [
    {
     "data": {
      "text/plain": [
       "KNeighborsClassifier(n_neighbors=21)"
      ]
     },
     "execution_count": 19,
     "metadata": {},
     "output_type": "execute_result"
    }
   ],
   "source": [
    "modelo = KNeighborsClassifier(n_neighbors = 21)\n",
    "\n",
    "score = cross_val_score(modelo, Xtrain, Ytrain, cv = 10)\n",
    "modelo.fit(Xtrain, Ytrain)"
   ]
  },
  {
   "cell_type": "code",
   "execution_count": 20,
   "id": "851efd0c",
   "metadata": {
    "execution": {
     "iopub.execute_input": "2021-09-27T17:45:24.739932Z",
     "iopub.status.busy": "2021-09-27T17:45:24.738803Z",
     "iopub.status.idle": "2021-09-27T17:45:26.851211Z",
     "shell.execute_reply": "2021-09-27T17:45:26.851756Z",
     "shell.execute_reply.started": "2021-09-27T17:43:12.359859Z"
    },
    "papermill": {
     "duration": 2.164145,
     "end_time": "2021-09-27T17:45:26.851970",
     "exception": false,
     "start_time": "2021-09-27T17:45:24.687825",
     "status": "completed"
    },
    "tags": []
   },
   "outputs": [],
   "source": [
    "YPred = modelo.predict(Xvalidation)"
   ]
  },
  {
   "cell_type": "code",
   "execution_count": 21,
   "id": "044c9dd5",
   "metadata": {
    "execution": {
     "iopub.execute_input": "2021-09-27T17:45:26.943756Z",
     "iopub.status.busy": "2021-09-27T17:45:26.942652Z",
     "iopub.status.idle": "2021-09-27T17:45:26.949799Z",
     "shell.execute_reply": "2021-09-27T17:45:26.950372Z",
     "shell.execute_reply.started": "2021-09-27T17:43:14.415556Z"
    },
    "papermill": {
     "duration": 0.055123,
     "end_time": "2021-09-27T17:45:26.950548",
     "exception": false,
     "start_time": "2021-09-27T17:45:26.895425",
     "status": "completed"
    },
    "tags": []
   },
   "outputs": [
    {
     "data": {
      "text/plain": [
       "0.8536107805121511"
      ]
     },
     "execution_count": 21,
     "metadata": {},
     "output_type": "execute_result"
    }
   ],
   "source": [
    "accuracy_score(Yvalidation, YPred)"
   ]
  },
  {
   "cell_type": "markdown",
   "id": "c3a3d222",
   "metadata": {
    "papermill": {
     "duration": 0.041602,
     "end_time": "2021-09-27T17:45:27.033716",
     "exception": false,
     "start_time": "2021-09-27T17:45:26.992114",
     "status": "completed"
    },
    "tags": []
   },
   "source": [
    "## 3. Submissão das predicitions para a base de teste"
   ]
  },
  {
   "cell_type": "markdown",
   "id": "46d28397",
   "metadata": {
    "papermill": {
     "duration": 0.043577,
     "end_time": "2021-09-27T17:45:27.119806",
     "exception": false,
     "start_time": "2021-09-27T17:45:27.076229",
     "status": "completed"
    },
    "tags": []
   },
   "source": [
    "O primeiro passo é organizar a base de teste seguindo os padrões utilizados para a base de treino"
   ]
  },
  {
   "cell_type": "code",
   "execution_count": 23,
   "id": "c90b4f60",
   "metadata": {
    "execution": {
     "iopub.execute_input": "2021-09-27T17:45:27.214026Z",
     "iopub.status.busy": "2021-09-27T17:45:27.212961Z",
     "iopub.status.idle": "2021-09-27T17:45:27.646678Z",
     "shell.execute_reply": "2021-09-27T17:45:27.647260Z",
     "shell.execute_reply.started": "2021-09-27T17:43:14.425305Z"
    },
    "papermill": {
     "duration": 0.483879,
     "end_time": "2021-09-27T17:45:27.647459",
     "exception": false,
     "start_time": "2021-09-27T17:45:27.163580",
     "status": "completed"
    },
    "tags": []
   },
   "outputs": [
    {
     "data": {
      "text/html": [
       "<div>\n",
       "<style scoped>\n",
       "    .dataframe tbody tr th:only-of-type {\n",
       "        vertical-align: middle;\n",
       "    }\n",
       "\n",
       "    .dataframe tbody tr th {\n",
       "        vertical-align: top;\n",
       "    }\n",
       "\n",
       "    .dataframe thead th {\n",
       "        text-align: right;\n",
       "    }\n",
       "</style>\n",
       "<table border=\"1\" class=\"dataframe\">\n",
       "  <thead>\n",
       "    <tr style=\"text-align: right;\">\n",
       "      <th></th>\n",
       "      <th>age</th>\n",
       "      <th>workclass</th>\n",
       "      <th>education.num</th>\n",
       "      <th>marital.status</th>\n",
       "      <th>occupation</th>\n",
       "      <th>sex</th>\n",
       "      <th>hours.per.week</th>\n",
       "      <th>capital</th>\n",
       "    </tr>\n",
       "  </thead>\n",
       "  <tbody>\n",
       "    <tr>\n",
       "      <th>0</th>\n",
       "      <td>25</td>\n",
       "      <td>Private</td>\n",
       "      <td>13</td>\n",
       "      <td>Never-married</td>\n",
       "      <td>Prof-specialty</td>\n",
       "      <td>Male</td>\n",
       "      <td>44</td>\n",
       "      <td>0</td>\n",
       "    </tr>\n",
       "    <tr>\n",
       "      <th>1</th>\n",
       "      <td>64</td>\n",
       "      <td>State-gov</td>\n",
       "      <td>13</td>\n",
       "      <td>Married-civ-spouse</td>\n",
       "      <td>Exec-managerial</td>\n",
       "      <td>Male</td>\n",
       "      <td>45</td>\n",
       "      <td>0</td>\n",
       "    </tr>\n",
       "    <tr>\n",
       "      <th>2</th>\n",
       "      <td>31</td>\n",
       "      <td>Private</td>\n",
       "      <td>14</td>\n",
       "      <td>Divorced</td>\n",
       "      <td>Exec-managerial</td>\n",
       "      <td>Female</td>\n",
       "      <td>40</td>\n",
       "      <td>0</td>\n",
       "    </tr>\n",
       "    <tr>\n",
       "      <th>3</th>\n",
       "      <td>45</td>\n",
       "      <td>Private</td>\n",
       "      <td>9</td>\n",
       "      <td>Never-married</td>\n",
       "      <td>Machine-op-inspct</td>\n",
       "      <td>Male</td>\n",
       "      <td>40</td>\n",
       "      <td>0</td>\n",
       "    </tr>\n",
       "    <tr>\n",
       "      <th>4</th>\n",
       "      <td>64</td>\n",
       "      <td>Self-emp-inc</td>\n",
       "      <td>13</td>\n",
       "      <td>Married-civ-spouse</td>\n",
       "      <td>Exec-managerial</td>\n",
       "      <td>Male</td>\n",
       "      <td>50</td>\n",
       "      <td>0</td>\n",
       "    </tr>\n",
       "    <tr>\n",
       "      <th>...</th>\n",
       "      <td>...</td>\n",
       "      <td>...</td>\n",
       "      <td>...</td>\n",
       "      <td>...</td>\n",
       "      <td>...</td>\n",
       "      <td>...</td>\n",
       "      <td>...</td>\n",
       "      <td>...</td>\n",
       "    </tr>\n",
       "    <tr>\n",
       "      <th>16275</th>\n",
       "      <td>40</td>\n",
       "      <td>Private</td>\n",
       "      <td>9</td>\n",
       "      <td>Married-civ-spouse</td>\n",
       "      <td>Craft-repair</td>\n",
       "      <td>Male</td>\n",
       "      <td>40</td>\n",
       "      <td>0</td>\n",
       "    </tr>\n",
       "    <tr>\n",
       "      <th>16276</th>\n",
       "      <td>30</td>\n",
       "      <td>Local-gov</td>\n",
       "      <td>9</td>\n",
       "      <td>Married-civ-spouse</td>\n",
       "      <td>Other-service</td>\n",
       "      <td>Male</td>\n",
       "      <td>40</td>\n",
       "      <td>0</td>\n",
       "    </tr>\n",
       "    <tr>\n",
       "      <th>16277</th>\n",
       "      <td>25</td>\n",
       "      <td>Private</td>\n",
       "      <td>9</td>\n",
       "      <td>Never-married</td>\n",
       "      <td>Adm-clerical</td>\n",
       "      <td>Male</td>\n",
       "      <td>40</td>\n",
       "      <td>0</td>\n",
       "    </tr>\n",
       "    <tr>\n",
       "      <th>16278</th>\n",
       "      <td>60</td>\n",
       "      <td>Private</td>\n",
       "      <td>14</td>\n",
       "      <td>Never-married</td>\n",
       "      <td>Exec-managerial</td>\n",
       "      <td>Female</td>\n",
       "      <td>35</td>\n",
       "      <td>3325</td>\n",
       "    </tr>\n",
       "    <tr>\n",
       "      <th>16279</th>\n",
       "      <td>49</td>\n",
       "      <td>Private</td>\n",
       "      <td>10</td>\n",
       "      <td>Married-civ-spouse</td>\n",
       "      <td>Craft-repair</td>\n",
       "      <td>Male</td>\n",
       "      <td>40</td>\n",
       "      <td>7688</td>\n",
       "    </tr>\n",
       "  </tbody>\n",
       "</table>\n",
       "<p>16280 rows × 8 columns</p>\n",
       "</div>"
      ],
      "text/plain": [
       "       age     workclass  education.num      marital.status  \\\n",
       "0       25       Private             13       Never-married   \n",
       "1       64     State-gov             13  Married-civ-spouse   \n",
       "2       31       Private             14            Divorced   \n",
       "3       45       Private              9       Never-married   \n",
       "4       64  Self-emp-inc             13  Married-civ-spouse   \n",
       "...    ...           ...            ...                 ...   \n",
       "16275   40       Private              9  Married-civ-spouse   \n",
       "16276   30     Local-gov              9  Married-civ-spouse   \n",
       "16277   25       Private              9       Never-married   \n",
       "16278   60       Private             14       Never-married   \n",
       "16279   49       Private             10  Married-civ-spouse   \n",
       "\n",
       "              occupation     sex  hours.per.week  capital  \n",
       "0         Prof-specialty    Male              44        0  \n",
       "1        Exec-managerial    Male              45        0  \n",
       "2        Exec-managerial  Female              40        0  \n",
       "3      Machine-op-inspct    Male              40        0  \n",
       "4        Exec-managerial    Male              50        0  \n",
       "...                  ...     ...             ...      ...  \n",
       "16275       Craft-repair    Male              40        0  \n",
       "16276      Other-service    Male              40        0  \n",
       "16277       Adm-clerical    Male              40        0  \n",
       "16278    Exec-managerial  Female              35     3325  \n",
       "16279       Craft-repair    Male              40     7688  \n",
       "\n",
       "[16280 rows x 8 columns]"
      ]
     },
     "execution_count": 23,
     "metadata": {},
     "output_type": "execute_result"
    }
   ],
   "source": [
    "test = pd.read_csv(\"~/Downloads//adult-pmr3508/test_data.csv\", \n",
    "                     sep = r'\\s*,\\s*', engine  = 'python',  na_values = \"?\")\n",
    "\n",
    "Xtest = test.copy()\n",
    "\n",
    "test[\"capital\"] = test['capital.gain'] - test['capital.loss']\n",
    "\n",
    "#variaveis descartadas para a avaliacao de acordo com os graficos\n",
    "test.drop('capital.loss', axis = 'columns', inplace = True)\n",
    "test.drop('capital.gain', axis = 'columns', inplace = True)\n",
    "test.drop('fnlwgt', axis = 'columns', inplace = True)\n",
    "test.drop('native.country', axis = 'columns', inplace = True)\n",
    "test.drop('Id', axis = 'columns', inplace = True)\n",
    "test.drop('relationship', axis = 'columns', inplace = True)\n",
    "test.drop('education', axis = 'columns', inplace = True)\n",
    "test.drop('race', axis = 'columns', inplace = True)\n",
    "\n",
    "\n",
    "#substitui os valores\n",
    "test[\"workclass\"] = test[\"workclass\"].fillna('Private')\n",
    "test[\"occupation\"] = test[\"occupation\"].fillna('Prof-specialty')\n",
    "\n",
    "test"
   ]
  },
  {
   "cell_type": "code",
   "execution_count": 24,
   "id": "24c880f5",
   "metadata": {
    "execution": {
     "iopub.execute_input": "2021-09-27T17:45:27.740010Z",
     "iopub.status.busy": "2021-09-27T17:45:27.738912Z",
     "iopub.status.idle": "2021-09-27T17:45:27.792400Z",
     "shell.execute_reply": "2021-09-27T17:45:27.792855Z",
     "shell.execute_reply.started": "2021-09-27T17:43:14.829981Z"
    },
    "papermill": {
     "duration": 0.100602,
     "end_time": "2021-09-27T17:45:27.793088",
     "exception": false,
     "start_time": "2021-09-27T17:45:27.692486",
     "status": "completed"
    },
    "tags": []
   },
   "outputs": [
    {
     "data": {
      "text/html": [
       "<div>\n",
       "<style scoped>\n",
       "    .dataframe tbody tr th:only-of-type {\n",
       "        vertical-align: middle;\n",
       "    }\n",
       "\n",
       "    .dataframe tbody tr th {\n",
       "        vertical-align: top;\n",
       "    }\n",
       "\n",
       "    .dataframe thead th {\n",
       "        text-align: right;\n",
       "    }\n",
       "</style>\n",
       "<table border=\"1\" class=\"dataframe\">\n",
       "  <thead>\n",
       "    <tr style=\"text-align: right;\">\n",
       "      <th></th>\n",
       "      <th>age</th>\n",
       "      <th>workclass</th>\n",
       "      <th>education.num</th>\n",
       "      <th>marital.status</th>\n",
       "      <th>occupation</th>\n",
       "      <th>sex</th>\n",
       "      <th>hours.per.week</th>\n",
       "      <th>capital</th>\n",
       "    </tr>\n",
       "  </thead>\n",
       "  <tbody>\n",
       "    <tr>\n",
       "      <th>0</th>\n",
       "      <td>25</td>\n",
       "      <td>3.0</td>\n",
       "      <td>13</td>\n",
       "      <td>4.0</td>\n",
       "      <td>9.0</td>\n",
       "      <td>1.0</td>\n",
       "      <td>44</td>\n",
       "      <td>0</td>\n",
       "    </tr>\n",
       "    <tr>\n",
       "      <th>1</th>\n",
       "      <td>64</td>\n",
       "      <td>6.0</td>\n",
       "      <td>13</td>\n",
       "      <td>2.0</td>\n",
       "      <td>3.0</td>\n",
       "      <td>1.0</td>\n",
       "      <td>45</td>\n",
       "      <td>0</td>\n",
       "    </tr>\n",
       "    <tr>\n",
       "      <th>2</th>\n",
       "      <td>31</td>\n",
       "      <td>3.0</td>\n",
       "      <td>14</td>\n",
       "      <td>0.0</td>\n",
       "      <td>3.0</td>\n",
       "      <td>0.0</td>\n",
       "      <td>40</td>\n",
       "      <td>0</td>\n",
       "    </tr>\n",
       "    <tr>\n",
       "      <th>3</th>\n",
       "      <td>45</td>\n",
       "      <td>3.0</td>\n",
       "      <td>9</td>\n",
       "      <td>4.0</td>\n",
       "      <td>6.0</td>\n",
       "      <td>1.0</td>\n",
       "      <td>40</td>\n",
       "      <td>0</td>\n",
       "    </tr>\n",
       "    <tr>\n",
       "      <th>4</th>\n",
       "      <td>64</td>\n",
       "      <td>4.0</td>\n",
       "      <td>13</td>\n",
       "      <td>2.0</td>\n",
       "      <td>3.0</td>\n",
       "      <td>1.0</td>\n",
       "      <td>50</td>\n",
       "      <td>0</td>\n",
       "    </tr>\n",
       "  </tbody>\n",
       "</table>\n",
       "</div>"
      ],
      "text/plain": [
       "   age  workclass  education.num  marital.status  occupation  sex  \\\n",
       "0   25        3.0             13             4.0         9.0  1.0   \n",
       "1   64        6.0             13             2.0         3.0  1.0   \n",
       "2   31        3.0             14             0.0         3.0  0.0   \n",
       "3   45        3.0              9             4.0         6.0  1.0   \n",
       "4   64        4.0             13             2.0         3.0  1.0   \n",
       "\n",
       "   hours.per.week  capital  \n",
       "0              44        0  \n",
       "1              45        0  \n",
       "2              40        0  \n",
       "3              40        0  \n",
       "4              50        0  "
      ]
     },
     "execution_count": 24,
     "metadata": {},
     "output_type": "execute_result"
    }
   ],
   "source": [
    "# convertendo variáveis qualitativas para um valor numérico\n",
    "qualitativos = [ \"workclass\", \"marital.status\", \"occupation\", \"sex\"]\n",
    "\n",
    "test[qualitativos] = OrdinalEncoder().fit_transform(test[qualitativos])\n",
    "test.head()"
   ]
  },
  {
   "cell_type": "code",
   "execution_count": 25,
   "id": "cf3f12ec",
   "metadata": {
    "execution": {
     "iopub.execute_input": "2021-09-27T17:45:27.888767Z",
     "iopub.status.busy": "2021-09-27T17:45:27.887610Z",
     "iopub.status.idle": "2021-09-27T17:45:27.908572Z",
     "shell.execute_reply": "2021-09-27T17:45:27.909400Z",
     "shell.execute_reply.started": "2021-09-27T17:43:14.882456Z"
    },
    "papermill": {
     "duration": 0.071551,
     "end_time": "2021-09-27T17:45:27.909665",
     "exception": false,
     "start_time": "2021-09-27T17:45:27.838114",
     "status": "completed"
    },
    "tags": []
   },
   "outputs": [],
   "source": [
    "#normalizando os vetores\n",
    "cap = [\"capital\"]\n",
    "test[cap] = RobustScaler().fit_transform(test[cap])\n",
    "\n",
    "alto_cov = [\"age\", \"education.num\", \"hours.per.week\"]\n",
    "test[alto_cov] = StandardScaler().fit_transform(test[alto_cov])"
   ]
  },
  {
   "cell_type": "markdown",
   "id": "29554949",
   "metadata": {
    "papermill": {
     "duration": 0.045707,
     "end_time": "2021-09-27T17:45:28.002081",
     "exception": false,
     "start_time": "2021-09-27T17:45:27.956374",
     "status": "completed"
    },
    "tags": []
   },
   "source": [
    "Terminada a organização, é feita a previsão e obtido o resultado final"
   ]
  },
  {
   "cell_type": "code",
   "execution_count": 26,
   "id": "15b703e4",
   "metadata": {
    "execution": {
     "iopub.execute_input": "2021-09-27T17:45:28.097157Z",
     "iopub.status.busy": "2021-09-27T17:45:28.096080Z",
     "iopub.status.idle": "2021-09-27T17:45:29.445662Z",
     "shell.execute_reply": "2021-09-27T17:45:29.446191Z",
     "shell.execute_reply.started": "2021-09-27T17:43:14.903257Z"
    },
    "papermill": {
     "duration": 1.39892,
     "end_time": "2021-09-27T17:45:29.446401",
     "exception": false,
     "start_time": "2021-09-27T17:45:28.047481",
     "status": "completed"
    },
    "tags": []
   },
   "outputs": [
    {
     "data": {
      "text/plain": [
       "array(['<=50K', '>50K', '<=50K', ..., '<=50K', '<=50K', '>50K'],\n",
       "      dtype=object)"
      ]
     },
     "execution_count": 26,
     "metadata": {},
     "output_type": "execute_result"
    }
   ],
   "source": [
    "predictions = modelo.predict(test)\n",
    "\n",
    "#inversão dos valores devolta para strings\n",
    "predictions = la_encoder.inverse_transform(predictions)\n",
    "\n",
    "predictions"
   ]
  },
  {
   "cell_type": "code",
   "execution_count": 27,
   "id": "456fa10e",
   "metadata": {
    "execution": {
     "iopub.execute_input": "2021-09-27T17:45:29.543531Z",
     "iopub.status.busy": "2021-09-27T17:45:29.542549Z",
     "iopub.status.idle": "2021-09-27T17:45:29.596272Z",
     "shell.execute_reply": "2021-09-27T17:45:29.595484Z",
     "shell.execute_reply.started": "2021-09-27T17:43:16.199601Z"
    },
    "papermill": {
     "duration": 0.103756,
     "end_time": "2021-09-27T17:45:29.596436",
     "exception": false,
     "start_time": "2021-09-27T17:45:29.492680",
     "status": "completed"
    },
    "tags": []
   },
   "outputs": [
    {
     "data": {
      "text/html": [
       "<div>\n",
       "<style scoped>\n",
       "    .dataframe tbody tr th:only-of-type {\n",
       "        vertical-align: middle;\n",
       "    }\n",
       "\n",
       "    .dataframe tbody tr th {\n",
       "        vertical-align: top;\n",
       "    }\n",
       "\n",
       "    .dataframe thead th {\n",
       "        text-align: right;\n",
       "    }\n",
       "</style>\n",
       "<table border=\"1\" class=\"dataframe\">\n",
       "  <thead>\n",
       "    <tr style=\"text-align: right;\">\n",
       "      <th></th>\n",
       "      <th>Id</th>\n",
       "      <th>income</th>\n",
       "    </tr>\n",
       "  </thead>\n",
       "  <tbody>\n",
       "    <tr>\n",
       "      <th>0</th>\n",
       "      <td>0</td>\n",
       "      <td>&lt;=50K</td>\n",
       "    </tr>\n",
       "    <tr>\n",
       "      <th>1</th>\n",
       "      <td>1</td>\n",
       "      <td>&gt;50K</td>\n",
       "    </tr>\n",
       "    <tr>\n",
       "      <th>2</th>\n",
       "      <td>2</td>\n",
       "      <td>&lt;=50K</td>\n",
       "    </tr>\n",
       "    <tr>\n",
       "      <th>3</th>\n",
       "      <td>3</td>\n",
       "      <td>&lt;=50K</td>\n",
       "    </tr>\n",
       "    <tr>\n",
       "      <th>4</th>\n",
       "      <td>4</td>\n",
       "      <td>&gt;50K</td>\n",
       "    </tr>\n",
       "    <tr>\n",
       "      <th>...</th>\n",
       "      <td>...</td>\n",
       "      <td>...</td>\n",
       "    </tr>\n",
       "    <tr>\n",
       "      <th>16275</th>\n",
       "      <td>16275</td>\n",
       "      <td>&lt;=50K</td>\n",
       "    </tr>\n",
       "    <tr>\n",
       "      <th>16276</th>\n",
       "      <td>16276</td>\n",
       "      <td>&lt;=50K</td>\n",
       "    </tr>\n",
       "    <tr>\n",
       "      <th>16277</th>\n",
       "      <td>16277</td>\n",
       "      <td>&lt;=50K</td>\n",
       "    </tr>\n",
       "    <tr>\n",
       "      <th>16278</th>\n",
       "      <td>16278</td>\n",
       "      <td>&lt;=50K</td>\n",
       "    </tr>\n",
       "    <tr>\n",
       "      <th>16279</th>\n",
       "      <td>16279</td>\n",
       "      <td>&gt;50K</td>\n",
       "    </tr>\n",
       "  </tbody>\n",
       "</table>\n",
       "<p>16280 rows × 2 columns</p>\n",
       "</div>"
      ],
      "text/plain": [
       "          Id income\n",
       "0          0  <=50K\n",
       "1          1   >50K\n",
       "2          2  <=50K\n",
       "3          3  <=50K\n",
       "4          4   >50K\n",
       "...      ...    ...\n",
       "16275  16275  <=50K\n",
       "16276  16276  <=50K\n",
       "16277  16277  <=50K\n",
       "16278  16278  <=50K\n",
       "16279  16279   >50K\n",
       "\n",
       "[16280 rows x 2 columns]"
      ]
     },
     "execution_count": 27,
     "metadata": {},
     "output_type": "execute_result"
    }
   ],
   "source": [
    "submit = pd.DataFrame({'Id': Xtest.Id, 'income': predictions})\n",
    "submit.to_csv('submission.csv', index = False, )\n",
    "submit"
   ]
  }
 ],
 "metadata": {
  "interpreter": {
   "hash": "916dbcbb3f70747c44a77c7bcd40155683ae19c65e1c03b4aa3499c5328201f1"
  },
  "kernelspec": {
   "display_name": "Python 3.8.10 64-bit",
   "name": "python3"
  },
  "language_info": {
   "codemirror_mode": {
    "name": "ipython",
    "version": 3
   },
   "file_extension": ".py",
   "mimetype": "text/x-python",
   "name": "python",
   "nbconvert_exporter": "python",
   "pygments_lexer": "ipython3",
   "version": "3.8.10"
  },
  "papermill": {
   "default_parameters": {},
   "duration": 28.946642,
   "end_time": "2021-09-27T17:45:31.581721",
   "environment_variables": {},
   "exception": null,
   "input_path": "__notebook__.ipynb",
   "output_path": "__notebook__.ipynb",
   "parameters": {},
   "start_time": "2021-09-27T17:45:02.635079",
   "version": "2.3.3"
  }
 },
 "nbformat": 4,
 "nbformat_minor": 5
}
